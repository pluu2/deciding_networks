{
  "nbformat": 4,
  "nbformat_minor": 0,
  "metadata": {
    "colab": {
      "name": "Softmax Network.ipynb",
      "provenance": [],
      "collapsed_sections": [],
      "authorship_tag": "ABX9TyMNRSO+V4UjX9LqO0H7U+BX"
    },
    "kernelspec": {
      "name": "python3",
      "display_name": "Python 3"
    }
  },
  "cells": [
    {
      "cell_type": "markdown",
      "metadata": {
        "id": "b3srBfrfckza"
      },
      "source": [
        "##Network that takes two values, performs arthmetic (addition,subtraction,multiplication, division). The Network has to decide which operator best describes the dataset.\n",
        "\n",
        "Uses: Consider add,subtract,multiply,divide as multiple networks."
      ]
    },
    {
      "cell_type": "code",
      "metadata": {
        "id": "xwHvfLiMA5Sm"
      },
      "source": [
        "import jax \n",
        "import jax.numpy as jnp\n",
        "import numpy as onp\n",
        "from jax import grad, jit, vmap\n",
        "import timeit"
      ],
      "execution_count": 407,
      "outputs": []
    },
    {
      "cell_type": "code",
      "metadata": {
        "id": "RqxMq4M-BC9u"
      },
      "source": [
        "#Consider a set of operators\n",
        "def add (input): \n",
        "  return input[0]+input[1]\n",
        "def subtract(input): \n",
        "  return input[0]-input[1]\n",
        "def multiply (input): \n",
        "  return input[0]*input[1]\n",
        "def divide (input): \n",
        "  return input[0]/input[1]"
      ],
      "execution_count": 408,
      "outputs": []
    },
    {
      "cell_type": "code",
      "metadata": {
        "id": "uKkhoTbVBG_Y"
      },
      "source": [
        "#Q will have to be 4x4 (or the four types of calculations)\n",
        "def forward(input,Q):\n",
        "  temp=[]\n",
        "  temp.append(multiply(input))\n",
        "  temp.append(divide(input))\n",
        "  temp.append(add(input))\n",
        "  temp.append(subtract(input)) \n",
        "  temp=jnp.array(temp) \n",
        " \n",
        "  att = jax.nn.softmax(jnp.dot(temp,Q.T))\n",
        "  expect = att[0]*temp[0] + att[1]*temp[1] + att[2]*temp[2] + att[3]*temp[3] #deciding between math functions\n",
        "  return expect,att\n",
        "\n",
        "def MSE(input,target,params): \n",
        "  pred,_ = forward(input,params)\n",
        "  calc=0.5*(pred-target)**2\n",
        "  return calc\n",
        "\n",
        "gradient =grad(MSE,argnums=2)"
      ],
      "execution_count": 409,
      "outputs": []
    },
    {
      "cell_type": "code",
      "metadata": {
        "id": "KI-GCLILM-4O"
      },
      "source": [
        "def update_attention(Q,dQ,lr=0.1): \n",
        "  Q= Q-(lr*dQ)\n",
        "  return Q"
      ],
      "execution_count": 369,
      "outputs": []
    },
    {
      "cell_type": "markdown",
      "metadata": {
        "id": "7akwRH0IELuI"
      },
      "source": [
        "Dataset - choose your operator "
      ]
    },
    {
      "cell_type": "code",
      "metadata": {
        "id": "l56imd3kENnh"
      },
      "source": [
        "dataset = [[20.0,5.0],[2.0,62.0],[47.0,4.0],[19.0,4.0]] #you can change these.\n",
        "dataset=jnp.array(dataset)\n",
        "target=[]\n",
        "for i in range(4):\n",
        "  target.append(dataset[i][0]/dataset[i][1]) #Change operator to subtract,add,divide,multiply\n",
        "target=jnp.array(target)"
      ],
      "execution_count": 393,
      "outputs": []
    },
    {
      "cell_type": "markdown",
      "metadata": {
        "id": "QZ6WYav4DqcX"
      },
      "source": [
        "Training Loop"
      ]
    },
    {
      "cell_type": "markdown",
      "metadata": {
        "id": "OoLz9GaXcafk"
      },
      "source": [
        "Parameters is Q, 4x4 matrix"
      ]
    },
    {
      "cell_type": "code",
      "metadata": {
        "id": "pGz1PSI0COxR"
      },
      "source": [
        "onp.random.seed(1003)\n",
        "Q_param=onp.random.randn(4,4)/1000"
      ],
      "execution_count": 404,
      "outputs": []
    },
    {
      "cell_type": "code",
      "metadata": {
        "id": "yBgIVVGhD_Sr",
        "outputId": "ecea6e36-805f-4238-9420-4f552b20cafa",
        "colab": {
          "base_uri": "https://localhost:8080/"
        }
      },
      "source": [
        "start_time = timeit.default_timer()\n",
        "for i in range(15):\n",
        "  for j in range(4): \n",
        "    dparams=gradient(dataset[j],target[j],Q_param) \n",
        "    Q_param= update_attention(Q_param,dparams,lr=0.000001)\n",
        "  test=(MSE(dataset[1],target[1],Q_param)) \n",
        "  print (f'Epoch: ',i)\n",
        "  print(f'MSE',test)\n",
        "elapsed = timeit.default_timer() - start_time\n",
        "print (f'elapsed time: ', elapsed, 's')  "
      ],
      "execution_count": 405,
      "outputs": [
        {
          "output_type": "stream",
          "text": [
            "Epoch:  0\n",
            "MSE 3.7429316\n",
            "Epoch:  1\n",
            "MSE 0.5824855\n",
            "Epoch:  2\n",
            "MSE 0.23713034\n",
            "Epoch:  3\n",
            "MSE 0.121499464\n",
            "Epoch:  4\n",
            "MSE 0.07048179\n",
            "Epoch:  5\n",
            "MSE 0.044307042\n",
            "Epoch:  6\n",
            "MSE 0.029486086\n",
            "Epoch:  7\n",
            "MSE 0.02048031\n",
            "Epoch:  8\n",
            "MSE 0.014707546\n",
            "Epoch:  9\n",
            "MSE 0.010848264\n",
            "Epoch:  10\n",
            "MSE 0.008179056\n",
            "Epoch:  11\n",
            "MSE 0.0062803295\n",
            "Epoch:  12\n",
            "MSE 0.0048973444\n",
            "Epoch:  13\n",
            "MSE 0.0038695482\n",
            "Epoch:  14\n",
            "MSE 0.0030923556\n",
            "elapsed time:  3.3275311509996754 s\n"
          ],
          "name": "stdout"
        }
      ]
    },
    {
      "cell_type": "markdown",
      "metadata": {
        "id": "XJ8kBDhxbHwk"
      },
      "source": [
        "Test, network has chosen the operator that describes dataset"
      ]
    },
    {
      "cell_type": "code",
      "metadata": {
        "id": "WqrXfd2zD_tO",
        "outputId": "5d7b5c7e-bef2-4dd4-c0ce-4ab6893e40b6",
        "colab": {
          "base_uri": "https://localhost:8080/"
        }
      },
      "source": [
        "pred,_=forward([50,25],Q_param)\n",
        "print(pred)"
      ],
      "execution_count": 406,
      "outputs": [
        {
          "output_type": "stream",
          "text": [
            "2.0\n"
          ],
          "name": "stdout"
        }
      ]
    }
  ]
}